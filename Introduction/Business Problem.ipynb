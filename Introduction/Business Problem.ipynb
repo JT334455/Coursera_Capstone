{
    "cells": [
        {
            "cell_type": "markdown",
            "metadata": {
                "collapsed": true
            },
            "source": "# INTRODUCTION/BUSINESS PROBLEM"
        },
        {
            "cell_type": "markdown",
            "metadata": {},
            "source": "## BACKGROUND:"
        },
        {
            "cell_type": "markdown",
            "metadata": {},
            "source": "This is a Capstone Project for Coursera's IBM Data Science Professional Certificate. The project utilizes the provided shared dataset to analyze and predict the severity of collisions/car accidents occured in Seattle, USA. "
        },
        {
            "cell_type": "markdown",
            "metadata": {},
            "source": "## GOAL/PROBLEM:"
        },
        {
            "cell_type": "markdown",
            "metadata": {},
            "source": "Car accidents occur on a daily basis, and the severity of the accident can range from no injury to fatality. Serious injuries and the loss of precious family members from car accidents can negativly impact an individual's and the family memebers' lives. Some injuries can also lead individuals blind, paralyzed, or amputated. With the number of accidents and deaths rising, it is imperative to improve road safety and reduce the number of occurances by developing a prediction model to predict car accidents severity. "
        },
        {
            "cell_type": "markdown",
            "metadata": {},
            "source": "## AUDIENCE:"
        },
        {
            "cell_type": "markdown",
            "metadata": {},
            "source": "This is mainly targeted towards residents in Seattle. The presented information is especially important to commuters, drivers, health professionals, police officers, EMTs, and pedestrians who are directly participating in their own safety and the safety of others. By knowing the relationships between special road/weather conditions along with other factors and their liklihood of causing car accidents/collisions can prevent accidents from happening. Decreasing the number of accidents can also decrease the chances of unnecessary traffic jam and the cost of  innocent lives."
        },
        {
            "cell_type": "code",
            "execution_count": null,
            "metadata": {},
            "outputs": [],
            "source": ""
        }
    ],
    "metadata": {
        "kernelspec": {
            "display_name": "Python 3.6",
            "language": "python",
            "name": "python3"
        },
        "language_info": {
            "codemirror_mode": {
                "name": "ipython",
                "version": 3
            },
            "file_extension": ".py",
            "mimetype": "text/x-python",
            "name": "python",
            "nbconvert_exporter": "python",
            "pygments_lexer": "ipython3",
            "version": "3.6.9"
        }
    },
    "nbformat": 4,
    "nbformat_minor": 1
}