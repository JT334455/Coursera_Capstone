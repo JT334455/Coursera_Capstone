{
    "cells": [
        {
            "cell_type": "markdown",
            "metadata": {},
            "source": "# DATA DESCRIPTION"
        },
        {
            "cell_type": "markdown",
            "metadata": {},
            "source": "### The dataset contains 194674 rows and 38 columns with 37 attributes. The collisions and car accidents in the dataset were all provided by the Seattle Police Department and recorded by Traffic Records. The timeframe of the recorded collisions were from 2004 to the present day with weekly updates. "
        },
        {
            "cell_type": "markdown",
            "metadata": {},
            "source": "### The target variable is called \"SEVERITYCODE\" with 0 being unknown, 1 being property damage, 2 being injury, 2b being serious injury, and 3 being fatality. "
        },
        {
            "cell_type": "markdown",
            "metadata": {
                "collapsed": true
            },
            "source": "### After cleaning up the data by dropping the irrelevant columns, the following 14 attributes/columns remain:"
        },
        {
            "cell_type": "markdown",
            "metadata": {},
            "source": "- SEVERITYCODE\n- COLLISIONTYPE\n- PERSONCOUNT\n- PEDCOUNT\n- PEDCYCLOUNT\n- VEHCOUNT\n- INCDATE\n- INCDTTM\n- INATTENTIONIND\n- UNDERINFL\n- WEATHER\n- ROADCOND\n- LIGHTCOND\n- SPEEDING"
        },
        {
            "cell_type": "markdown",
            "metadata": {},
            "source": "### The above attributes are directly related to the causes and consequences of the accidents/collisions. This includes when and where the accidents took place. Accidents could be because the driver was speeding, under the influence of alcohol or drugs, and texting or not paying attention. In addition, driver could also be affected by the different lighting and weather conditions. Furthermore, the attributes note how many vehicles, pedistrians, bicycles, and individuals were involved with each of the accident. "
        }
    ],
    "metadata": {
        "kernelspec": {
            "display_name": "Python 3.6",
            "language": "python",
            "name": "python3"
        },
        "language_info": {
            "codemirror_mode": {
                "name": "ipython",
                "version": 3
            },
            "file_extension": ".py",
            "mimetype": "text/x-python",
            "name": "python",
            "nbconvert_exporter": "python",
            "pygments_lexer": "ipython3",
            "version": "3.6.9"
        }
    },
    "nbformat": 4,
    "nbformat_minor": 1
}